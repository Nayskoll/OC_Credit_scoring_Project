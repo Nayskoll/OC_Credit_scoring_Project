{
 "cells": [
  {
   "cell_type": "code",
   "execution_count": 4,
   "metadata": {
    "_cell_guid": "b1076dfc-b9ad-4769-8c92-a6c4dae69d19",
    "_uuid": "8f2839f25d086af736a60e9eeb907d3b93b6e0e5",
    "execution": {
     "iopub.execute_input": "2021-07-20T06:10:30.630987Z",
     "iopub.status.busy": "2021-07-20T06:10:30.625726Z",
     "iopub.status.idle": "2021-07-20T06:10:31.794300Z",
     "shell.execute_reply": "2021-07-20T06:10:31.794882Z",
     "shell.execute_reply.started": "2021-07-20T03:06:36.029049Z"
    },
    "papermill": {
     "duration": 1.230645,
     "end_time": "2021-07-20T06:10:31.795302",
     "exception": false,
     "start_time": "2021-07-20T06:10:30.564657",
     "status": "completed"
    },
    "tags": []
   },
   "outputs": [],
   "source": [
    "import numpy as np\n",
    "import pandas as pd\n",
    "\n",
    "from sklearn.preprocessing import LabelEncoder\n",
    "import plotly.graph_objects as go\n",
    "\n",
    "import os\n",
    "from sklearn.impute import SimpleImputer\n",
    "\n",
    "from sklearn.preprocessing import PolynomialFeatures\n",
    "import warnings\n",
    "warnings.filterwarnings('ignore')\n",
    "import pickle \n",
    "import matplotlib.pyplot as plt\n",
    "import seaborn as sns"
   ]
  },
  {
   "cell_type": "markdown",
   "metadata": {},
   "source": [
    "# Preparing test dataset"
   ]
  },
  {
   "cell_type": "code",
   "execution_count": 30,
   "metadata": {
    "execution": {
     "iopub.execute_input": "2021-07-20T06:10:38.892638Z",
     "iopub.status.busy": "2021-07-20T06:10:38.891988Z",
     "iopub.status.idle": "2021-07-20T06:10:39.897271Z",
     "shell.execute_reply": "2021-07-20T06:10:39.896573Z",
     "shell.execute_reply.started": "2021-07-20T03:06:43.167091Z"
    },
    "papermill": {
     "duration": 1.059901,
     "end_time": "2021-07-20T06:10:39.897413",
     "exception": false,
     "start_time": "2021-07-20T06:10:38.837512",
     "status": "completed"
    },
    "tags": []
   },
   "outputs": [],
   "source": [
    "app_train = pd.read_csv(\"application_train.csv\")\n",
    "app_test_raw = pd.read_csv(\"application_test.csv\")\n",
    "app_test = pd.read_csv(\"application_test.csv\")\n",
    "schema_list = pd.read_csv(\"schema_for_data_prep.csv\").columns.tolist()"
   ]
  },
  {
   "cell_type": "code",
   "execution_count": 31,
   "metadata": {},
   "outputs": [
    {
     "name": "stdout",
     "output_type": "stream",
     "text": [
      "3 columns were label encoded.\n"
     ]
    }
   ],
   "source": [
    "le = LabelEncoder()\n",
    "le_count = 0\n",
    "\n",
    "# encoding to 0/1 when there are less than 3 values \n",
    "# example: gender will take the value of 0/1 instead of M/F\n",
    "for col in app_train:\n",
    "    if app_train[col].dtype == 'object':\n",
    "        if len(list(app_train[col].unique())) <= 2:\n",
    "            le.fit(app_train[col])\n",
    "            app_train[col] = le.transform(app_train[col])\n",
    "            app_test[col] = le.transform(app_test[col])\n",
    "            \n",
    "            le_count += 1\n",
    "print('%d columns were label encoded.' % le_count)"
   ]
  },
  {
   "cell_type": "code",
   "execution_count": 32,
   "metadata": {
    "execution": {
     "iopub.execute_input": "2021-07-20T06:10:43.984223Z",
     "iopub.status.busy": "2021-07-20T06:10:43.982673Z",
     "iopub.status.idle": "2021-07-20T06:10:45.029347Z",
     "shell.execute_reply": "2021-07-20T06:10:45.029827Z",
     "shell.execute_reply.started": "2021-07-20T03:06:47.090920Z"
    },
    "papermill": {
     "duration": 1.110445,
     "end_time": "2021-07-20T06:10:45.030028",
     "exception": false,
     "start_time": "2021-07-20T06:10:43.919583",
     "status": "completed"
    },
    "tags": []
   },
   "outputs": [
    {
     "name": "stdout",
     "output_type": "stream",
     "text": [
      "Testing Features shape:  (48744, 239)\n"
     ]
    }
   ],
   "source": [
    "app_test = pd.get_dummies(app_test)\n",
    "\n",
    "print('Testing Features shape: ', app_test.shape)\n",
    "\n",
    "# test set has more features."
   ]
  },
  {
   "cell_type": "code",
   "execution_count": 33,
   "metadata": {
    "execution": {
     "iopub.execute_input": "2021-07-20T06:10:47.525852Z",
     "iopub.status.busy": "2021-07-20T06:10:47.524928Z",
     "iopub.status.idle": "2021-07-20T06:10:47.539763Z",
     "shell.execute_reply": "2021-07-20T06:10:47.540893Z",
     "shell.execute_reply.started": "2021-07-20T03:06:49.513194Z"
    },
    "papermill": {
     "duration": 0.077866,
     "end_time": "2021-07-20T06:10:47.541188",
     "exception": false,
     "start_time": "2021-07-20T06:10:47.463322",
     "status": "completed"
    },
    "tags": []
   },
   "outputs": [
    {
     "name": "stdout",
     "output_type": "stream",
     "text": [
      "There are 9274 anomalies in the test data out of 48744 entries\n"
     ]
    }
   ],
   "source": [
    "app_test['DAYS_EMPLOYED_ANOM'] = app_test['DAYS_EMPLOYED'] == app_test['DAYS_EMPLOYED'].max()\n",
    "app_test['DAYS_EMPLOYED'].replace({app_test['DAYS_EMPLOYED'].max(): np.nan}, inplace = True)\n",
    "print('There are %d anomalies in the test data out of %d entries' % (app_test['DAYS_EMPLOYED_ANOM'].sum(), len(app_test)))"
   ]
  },
  {
   "cell_type": "markdown",
   "metadata": {},
   "source": [
    "In this method, we generate powers or interaction terms of existing features as new features."
   ]
  },
  {
   "cell_type": "code",
   "execution_count": 34,
   "metadata": {
    "execution": {
     "iopub.execute_input": "2021-07-20T06:15:12.409612Z",
     "iopub.status.busy": "2021-07-20T06:15:12.402529Z",
     "iopub.status.idle": "2021-07-20T06:15:12.862076Z",
     "shell.execute_reply": "2021-07-20T06:15:12.862567Z",
     "shell.execute_reply.started": "2021-07-20T03:44:38.294186Z"
    },
    "papermill": {
     "duration": 0.559129,
     "end_time": "2021-07-20T06:15:12.862794",
     "exception": false,
     "start_time": "2021-07-20T06:15:12.303665",
     "status": "completed"
    },
    "tags": []
   },
   "outputs": [],
   "source": [
    "poly_features_test = app_test[['EXT_SOURCE_1', 'EXT_SOURCE_2', 'EXT_SOURCE_3', 'DAYS_BIRTH']]\n",
    "\n",
    "imputer = SimpleImputer(strategy = 'median')\n",
    "\n",
    "poly_features_test = imputer.fit_transform(poly_features_test)\n",
    "\n",
    "\n",
    "poly_transformer = PolynomialFeatures(degree = 3)"
   ]
  },
  {
   "cell_type": "code",
   "execution_count": 35,
   "metadata": {
    "execution": {
     "iopub.execute_input": "2021-07-20T06:15:13.049015Z",
     "iopub.status.busy": "2021-07-20T06:15:13.048274Z",
     "iopub.status.idle": "2021-07-20T06:15:13.188751Z",
     "shell.execute_reply": "2021-07-20T06:15:13.189615Z",
     "shell.execute_reply.started": "2021-07-20T03:45:59.586183Z"
    },
    "papermill": {
     "duration": 0.236591,
     "end_time": "2021-07-20T06:15:13.189854",
     "exception": false,
     "start_time": "2021-07-20T06:15:12.953263",
     "status": "completed"
    },
    "tags": []
   },
   "outputs": [
    {
     "name": "stdout",
     "output_type": "stream",
     "text": [
      "Polynomial Features shape:  (48744, 35)\n"
     ]
    }
   ],
   "source": [
    "poly_features_test = poly_transformer.fit_transform(poly_features_test)\n",
    "print('Polynomial Features shape: ', poly_features_test.shape)"
   ]
  },
  {
   "cell_type": "code",
   "execution_count": 36,
   "metadata": {
    "execution": {
     "iopub.execute_input": "2021-07-20T06:15:15.011467Z",
     "iopub.status.busy": "2021-07-20T06:15:15.010114Z",
     "iopub.status.idle": "2021-07-20T06:15:17.303247Z",
     "shell.execute_reply": "2021-07-20T06:15:17.302653Z",
     "shell.execute_reply.started": "2021-07-20T03:55:56.049109Z"
    },
    "papermill": {
     "duration": 2.397821,
     "end_time": "2021-07-20T06:15:17.303411",
     "exception": false,
     "start_time": "2021-07-20T06:15:14.905590",
     "status": "completed"
    },
    "tags": []
   },
   "outputs": [
    {
     "name": "stdout",
     "output_type": "stream",
     "text": [
      "Testing data with polynomial features shape:  (48744, 271)\n"
     ]
    }
   ],
   "source": [
    "poly_features_test = pd.DataFrame(poly_features_test, columns = poly_transformer.get_feature_names(['EXT_SOURCE_1', 'EXT_SOURCE_2', 'EXT_SOURCE_3', 'DAYS_BIRTH']))\n",
    "\n",
    "poly_features_test['SK_ID_CURR'] = app_test['SK_ID_CURR']\n",
    "app_test_poly = app_test.merge(poly_features_test, on = ['SK_ID_CURR', 'EXT_SOURCE_1', 'EXT_SOURCE_2', 'EXT_SOURCE_3', 'DAYS_BIRTH'], how = 'left')\n",
    "\n",
    "print('Testing data with polynomial features shape: ', app_test_poly.shape)"
   ]
  },
  {
   "cell_type": "code",
   "execution_count": 37,
   "metadata": {},
   "outputs": [],
   "source": [
    "app_test_ready = app_test_poly[schema_list]\n",
    "#necessary because of dummies values"
   ]
  },
  {
   "cell_type": "code",
   "execution_count": 38,
   "metadata": {
    "execution": {
     "iopub.execute_input": "2021-07-20T06:15:25.278072Z",
     "iopub.status.busy": "2021-07-20T06:15:25.276748Z",
     "iopub.status.idle": "2021-07-20T06:16:03.160236Z",
     "shell.execute_reply": "2021-07-20T06:16:03.160749Z",
     "shell.execute_reply.started": "2021-07-20T04:21:09.531655Z"
    },
    "papermill": {
     "duration": 38.076865,
     "end_time": "2021-07-20T06:16:03.160995",
     "exception": false,
     "start_time": "2021-07-20T06:15:25.084130",
     "status": "completed"
    },
    "tags": []
   },
   "outputs": [
    {
     "name": "stdout",
     "output_type": "stream",
     "text": [
      "Testing data shape:  (48744, 271)\n"
     ]
    }
   ],
   "source": [
    "from sklearn.preprocessing import MinMaxScaler\n",
    "\n",
    "features = app_test_ready.columns.tolist()\n",
    "\n",
    "test = app_test_ready.copy()\n",
    "\n",
    "imputer = SimpleImputer(strategy = 'median')\n",
    "\n",
    "scaler = MinMaxScaler(feature_range = (0,1))\n",
    "\n",
    "imputer.fit(test)\n",
    "\n",
    "test = imputer.transform(test)\n",
    "\n",
    "scaler.fit(test)\n",
    "test = scaler.transform(test)\n",
    "\n",
    "print('Testing data shape: ', test.shape)"
   ]
  },
  {
   "cell_type": "markdown",
   "metadata": {},
   "source": [
    "# Loading the model"
   ]
  },
  {
   "cell_type": "code",
   "execution_count": 39,
   "metadata": {},
   "outputs": [],
   "source": [
    "filename = 'logreg_model.sav'\n",
    "loaded_model = pickle.load(open(filename, 'rb'))\n"
   ]
  },
  {
   "cell_type": "code",
   "execution_count": null,
   "metadata": {},
   "outputs": [],
   "source": []
  },
  {
   "cell_type": "markdown",
   "metadata": {},
   "source": [
    "# Getting the features coefficient"
   ]
  },
  {
   "cell_type": "code",
   "execution_count": 40,
   "metadata": {},
   "outputs": [],
   "source": [
    "features_coeff = pd.DataFrame(features, index=None, columns=[\"features\"])\n",
    "features_coeff[\"importance\"] = loaded_model.coef_[0]\n",
    "features_coeff[\"importance_abs\"] = features_coeff[\"importance\"].abs()"
   ]
  },
  {
   "cell_type": "code",
   "execution_count": 41,
   "metadata": {},
   "outputs": [],
   "source": [
    "# removing polynomial features from features importance (as it is harder to explain to a client)\n",
    "features_coeff_without_poly = features_coeff[features_coeff[\"features\"].isin(app_test.columns.tolist())]\n",
    "features_coeff_without_poly = features_coeff_without_poly.sort_values(\"importance_abs\", ascending=False)"
   ]
  },
  {
   "cell_type": "code",
   "execution_count": 42,
   "metadata": {},
   "outputs": [],
   "source": [
    "features_coeff_without_poly[\"rank\"] = features_coeff_without_poly[\"importance_abs\"].rank(ascending=False).astype(int)"
   ]
  },
  {
   "cell_type": "code",
   "execution_count": 43,
   "metadata": {},
   "outputs": [
    {
     "data": {
      "text/html": [
       "<div>\n",
       "<style scoped>\n",
       "    .dataframe tbody tr th:only-of-type {\n",
       "        vertical-align: middle;\n",
       "    }\n",
       "\n",
       "    .dataframe tbody tr th {\n",
       "        vertical-align: top;\n",
       "    }\n",
       "\n",
       "    .dataframe thead th {\n",
       "        text-align: right;\n",
       "    }\n",
       "</style>\n",
       "<table border=\"1\" class=\"dataframe\">\n",
       "  <thead>\n",
       "    <tr style=\"text-align: right;\">\n",
       "      <th></th>\n",
       "      <th>features</th>\n",
       "      <th>importance</th>\n",
       "      <th>importance_abs</th>\n",
       "      <th>rank</th>\n",
       "    </tr>\n",
       "  </thead>\n",
       "  <tbody>\n",
       "    <tr>\n",
       "      <th>33</th>\n",
       "      <td>EXT_SOURCE_3</td>\n",
       "      <td>-2.540642</td>\n",
       "      <td>2.540642</td>\n",
       "      <td>1</td>\n",
       "    </tr>\n",
       "    <tr>\n",
       "      <th>8</th>\n",
       "      <td>AMT_GOODS_PRICE</td>\n",
       "      <td>-1.956945</td>\n",
       "      <td>1.956945</td>\n",
       "      <td>2</td>\n",
       "    </tr>\n",
       "    <tr>\n",
       "      <th>32</th>\n",
       "      <td>EXT_SOURCE_2</td>\n",
       "      <td>-1.873750</td>\n",
       "      <td>1.873750</td>\n",
       "      <td>3</td>\n",
       "    </tr>\n",
       "    <tr>\n",
       "      <th>7</th>\n",
       "      <td>AMT_ANNUITY</td>\n",
       "      <td>1.838230</td>\n",
       "      <td>1.838230</td>\n",
       "      <td>4</td>\n",
       "    </tr>\n",
       "    <tr>\n",
       "      <th>31</th>\n",
       "      <td>EXT_SOURCE_1</td>\n",
       "      <td>-1.541837</td>\n",
       "      <td>1.541837</td>\n",
       "      <td>5</td>\n",
       "    </tr>\n",
       "  </tbody>\n",
       "</table>\n",
       "</div>"
      ],
      "text/plain": [
       "           features  importance  importance_abs  rank\n",
       "33     EXT_SOURCE_3   -2.540642        2.540642     1\n",
       "8   AMT_GOODS_PRICE   -1.956945        1.956945     2\n",
       "32     EXT_SOURCE_2   -1.873750        1.873750     3\n",
       "7       AMT_ANNUITY    1.838230        1.838230     4\n",
       "31     EXT_SOURCE_1   -1.541837        1.541837     5"
      ]
     },
     "execution_count": 43,
     "metadata": {},
     "output_type": "execute_result"
    }
   ],
   "source": [
    "features_coeff_without_poly.head()"
   ]
  },
  {
   "cell_type": "code",
   "execution_count": 44,
   "metadata": {},
   "outputs": [],
   "source": [
    "features_coeff_without_poly.to_csv(\"features_importance.csv\", index=False)"
   ]
  },
  {
   "cell_type": "markdown",
   "metadata": {},
   "source": [
    "# Applying the model to the test dataset"
   ]
  },
  {
   "cell_type": "code",
   "execution_count": 45,
   "metadata": {},
   "outputs": [],
   "source": [
    "result = loaded_model.predict_proba(test)[:, 1]"
   ]
  },
  {
   "cell_type": "markdown",
   "metadata": {},
   "source": [
    "## With scaled data"
   ]
  },
  {
   "cell_type": "code",
   "execution_count": 46,
   "metadata": {},
   "outputs": [],
   "source": [
    "app_test[\"% default\"] = result * 100\n",
    "app_test[\"Result\"] = (result >= 0.12).astype(bool)\n",
    "app_test = app_test.set_index(\"SK_ID_CURR\")\n",
    "app_test.to_csv(\"client_list.csv\", sep=\",\")"
   ]
  },
  {
   "cell_type": "markdown",
   "metadata": {},
   "source": [
    "## With raw data"
   ]
  },
  {
   "cell_type": "code",
   "execution_count": 47,
   "metadata": {},
   "outputs": [],
   "source": [
    "app_test_raw[\"% default\"] = result * 100\n",
    "app_test_raw = app_test_raw.set_index(\"SK_ID_CURR\")\n",
    "app_test_raw.to_csv(\"client_list_raw.csv\", sep=\",\")"
   ]
  },
  {
   "cell_type": "markdown",
   "metadata": {},
   "source": [
    "# Preparing dataset for radar chart vizualisation for each user\n",
    "We'll apply a decile classification"
   ]
  },
  {
   "cell_type": "code",
   "execution_count": 23,
   "metadata": {},
   "outputs": [],
   "source": [
    "no_default_users = app_test[app_test.Result==False].index.tolist()\n",
    "default_users = app_test[app_test.Result==True].index.tolist()"
   ]
  },
  {
   "cell_type": "code",
   "execution_count": 24,
   "metadata": {},
   "outputs": [],
   "source": [
    "top_10_features = features_coeff_without_poly.head(10).features.values"
   ]
  },
  {
   "cell_type": "code",
   "execution_count": 25,
   "metadata": {},
   "outputs": [],
   "source": [
    "scaled_data = pd.DataFrame(test, columns=app_test_ready.columns.tolist())[top_10_features]"
   ]
  },
  {
   "cell_type": "code",
   "execution_count": 26,
   "metadata": {},
   "outputs": [],
   "source": [
    "scaled_data['SK_ID_CURR'] = app_test.index\n",
    "scaled_data = scaled_data.set_index(\"SK_ID_CURR\")"
   ]
  },
  {
   "cell_type": "code",
   "execution_count": 27,
   "metadata": {},
   "outputs": [],
   "source": [
    "for ft in top_10_features:                                   \n",
    "    scaled_data[ft] = pd.qcut(scaled_data[ft].values, q=10, duplicates=\"drop\").codes + 1"
   ]
  },
  {
   "cell_type": "code",
   "execution_count": 28,
   "metadata": {},
   "outputs": [],
   "source": [
    "scaled_data.to_csv(\"scaled_data.csv\", index=\"SK_ID_CURR\")"
   ]
  },
  {
   "cell_type": "markdown",
   "metadata": {},
   "source": [
    "# Testing the vizualisation before putting in on streamlit"
   ]
  },
  {
   "cell_type": "code",
   "execution_count": 365,
   "metadata": {},
   "outputs": [],
   "source": [
    "scaled_data = scaled_data.reset_index()"
   ]
  },
  {
   "cell_type": "code",
   "execution_count": 366,
   "metadata": {},
   "outputs": [],
   "source": [
    "radiar_chart_default = scaled_data[scaled_data[\"SK_ID_CURR\"].isin(default_users)]\\\n",
    ".drop(columns=\"SK_ID_CURR\")\\\n",
    ".mean()\n",
    "default_df = pd.DataFrame(radiar_chart_default, columns=[\"values\"]).reset_index()\n",
    "\n",
    "radiar_chart_no_default = scaled_data[scaled_data[\"SK_ID_CURR\"].isin(no_default_users)]\\\n",
    ".drop(columns=\"SK_ID_CURR\")\\\n",
    ".mean()\n",
    "no_default_df = pd.DataFrame(radiar_chart_no_default, columns=[\"values\"]).reset_index()\n",
    "\n"
   ]
  },
  {
   "cell_type": "code",
   "execution_count": 367,
   "metadata": {},
   "outputs": [],
   "source": [
    "one_client_df = scaled_data[scaled_data[\"SK_ID_CURR\"]==100042]\\\n",
    ".drop(columns=\"SK_ID_CURR\")\\\n",
    ".T\\\n",
    ".reset_index()\\\n",
    ".rename(columns={0:\"values\"})"
   ]
  },
  {
   "cell_type": "code",
   "execution_count": 368,
   "metadata": {},
   "outputs": [],
   "source": [
    "one_client_df.columns=[\"index\", \"values\"]"
   ]
  },
  {
   "cell_type": "code",
   "execution_count": 369,
   "metadata": {},
   "outputs": [
    {
     "data": {
      "text/html": [
       "<div>                            <div id=\"53cfd46b-1805-40d5-8650-04d9e2566892\" class=\"plotly-graph-div\" style=\"height:525px; width:100%;\"></div>            <script type=\"text/javascript\">                require([\"plotly\"], function(Plotly) {                    window.PLOTLYENV=window.PLOTLYENV || {};                                    if (document.getElementById(\"53cfd46b-1805-40d5-8650-04d9e2566892\")) {                    Plotly.newPlot(                        \"53cfd46b-1805-40d5-8650-04d9e2566892\",                        [{\"fill\": \"toself\", \"line\": {\"color\": \"Red\"}, \"mode\": \"lines\", \"name\": \"Default mean\", \"r\": [3.384369907658881, 4.9126154263986965, 3.2970532319391634, 5.451656708310701, 2.6450298750678978, 1.0, 1.0309614340032591, 5.107074959261271, 0.0, 6.380363932645301], \"theta\": [\"EXT_SOURCE_3\", \"AMT_GOODS_PRICE\", \"EXT_SOURCE_2\", \"AMT_ANNUITY\", \"EXT_SOURCE_1\", \"DEF_60_CNT_SOCIAL_CIRCLE\", \"DEF_30_CNT_SOCIAL_CIRCLE\", \"AMT_CREDIT\", \"FLAG_DOCUMENT_13\", \"DAYS_EMPLOYED\"], \"type\": \"scatterpolar\"}, {\"fill\": \"toself\", \"line\": {\"color\": \"Green\"}, \"mode\": \"lines\", \"name\": \"No Default Mean\", \"r\": [6.274606067732831, 5.470749059266228, 6.453668861712136, 5.51428739416745, 3.5683795860771403, 1.0, 1.0182561147695202, 5.602128410159925, 0.0, 4.9815968955785515], \"theta\": [\"EXT_SOURCE_3\", \"AMT_GOODS_PRICE\", \"EXT_SOURCE_2\", \"AMT_ANNUITY\", \"EXT_SOURCE_1\", \"DEF_60_CNT_SOCIAL_CIRCLE\", \"DEF_30_CNT_SOCIAL_CIRCLE\", \"AMT_CREDIT\", \"FLAG_DOCUMENT_13\", \"DAYS_EMPLOYED\"], \"type\": \"scatterpolar\"}, {\"fill\": \"toself\", \"line\": {\"color\": \"Blue\"}, \"mode\": \"lines\", \"name\": \"Client Selected\", \"r\": [3, 9, 7, 8, 3, 1, 1, 9, 0, 1], \"theta\": [\"EXT_SOURCE_3\", \"AMT_GOODS_PRICE\", \"EXT_SOURCE_2\", \"AMT_ANNUITY\", \"EXT_SOURCE_1\", \"DEF_60_CNT_SOCIAL_CIRCLE\", \"DEF_30_CNT_SOCIAL_CIRCLE\", \"AMT_CREDIT\", \"FLAG_DOCUMENT_13\", \"DAYS_EMPLOYED\"], \"type\": \"scatterpolar\"}],                        {\"template\": {\"data\": {\"bar\": [{\"error_x\": {\"color\": \"#2a3f5f\"}, \"error_y\": {\"color\": \"#2a3f5f\"}, \"marker\": {\"line\": {\"color\": \"#E5ECF6\", \"width\": 0.5}}, \"type\": \"bar\"}], \"barpolar\": [{\"marker\": {\"line\": {\"color\": \"#E5ECF6\", \"width\": 0.5}}, \"type\": \"barpolar\"}], \"carpet\": [{\"aaxis\": {\"endlinecolor\": \"#2a3f5f\", \"gridcolor\": \"white\", \"linecolor\": \"white\", \"minorgridcolor\": \"white\", \"startlinecolor\": \"#2a3f5f\"}, \"baxis\": {\"endlinecolor\": \"#2a3f5f\", \"gridcolor\": \"white\", \"linecolor\": \"white\", \"minorgridcolor\": \"white\", \"startlinecolor\": \"#2a3f5f\"}, \"type\": \"carpet\"}], \"choropleth\": [{\"colorbar\": {\"outlinewidth\": 0, \"ticks\": \"\"}, \"type\": \"choropleth\"}], \"contour\": [{\"colorbar\": {\"outlinewidth\": 0, \"ticks\": \"\"}, \"colorscale\": [[0.0, \"#0d0887\"], [0.1111111111111111, \"#46039f\"], [0.2222222222222222, \"#7201a8\"], [0.3333333333333333, \"#9c179e\"], [0.4444444444444444, \"#bd3786\"], [0.5555555555555556, \"#d8576b\"], [0.6666666666666666, \"#ed7953\"], [0.7777777777777778, \"#fb9f3a\"], [0.8888888888888888, \"#fdca26\"], [1.0, \"#f0f921\"]], \"type\": \"contour\"}], \"contourcarpet\": [{\"colorbar\": {\"outlinewidth\": 0, \"ticks\": \"\"}, \"type\": \"contourcarpet\"}], \"heatmap\": [{\"colorbar\": {\"outlinewidth\": 0, \"ticks\": \"\"}, \"colorscale\": [[0.0, \"#0d0887\"], [0.1111111111111111, \"#46039f\"], [0.2222222222222222, \"#7201a8\"], [0.3333333333333333, \"#9c179e\"], [0.4444444444444444, \"#bd3786\"], [0.5555555555555556, \"#d8576b\"], [0.6666666666666666, \"#ed7953\"], [0.7777777777777778, \"#fb9f3a\"], [0.8888888888888888, \"#fdca26\"], [1.0, \"#f0f921\"]], \"type\": \"heatmap\"}], \"heatmapgl\": [{\"colorbar\": {\"outlinewidth\": 0, \"ticks\": \"\"}, \"colorscale\": [[0.0, \"#0d0887\"], [0.1111111111111111, \"#46039f\"], [0.2222222222222222, \"#7201a8\"], [0.3333333333333333, \"#9c179e\"], [0.4444444444444444, \"#bd3786\"], [0.5555555555555556, \"#d8576b\"], [0.6666666666666666, \"#ed7953\"], [0.7777777777777778, \"#fb9f3a\"], [0.8888888888888888, \"#fdca26\"], [1.0, \"#f0f921\"]], \"type\": \"heatmapgl\"}], \"histogram\": [{\"marker\": {\"colorbar\": {\"outlinewidth\": 0, \"ticks\": \"\"}}, \"type\": \"histogram\"}], \"histogram2d\": [{\"colorbar\": {\"outlinewidth\": 0, \"ticks\": \"\"}, \"colorscale\": [[0.0, \"#0d0887\"], [0.1111111111111111, \"#46039f\"], [0.2222222222222222, \"#7201a8\"], [0.3333333333333333, \"#9c179e\"], [0.4444444444444444, \"#bd3786\"], [0.5555555555555556, \"#d8576b\"], [0.6666666666666666, \"#ed7953\"], [0.7777777777777778, \"#fb9f3a\"], [0.8888888888888888, \"#fdca26\"], [1.0, \"#f0f921\"]], \"type\": \"histogram2d\"}], \"histogram2dcontour\": [{\"colorbar\": {\"outlinewidth\": 0, \"ticks\": \"\"}, \"colorscale\": [[0.0, \"#0d0887\"], [0.1111111111111111, \"#46039f\"], [0.2222222222222222, \"#7201a8\"], [0.3333333333333333, \"#9c179e\"], [0.4444444444444444, \"#bd3786\"], [0.5555555555555556, \"#d8576b\"], [0.6666666666666666, \"#ed7953\"], [0.7777777777777778, \"#fb9f3a\"], [0.8888888888888888, \"#fdca26\"], [1.0, \"#f0f921\"]], \"type\": \"histogram2dcontour\"}], \"mesh3d\": [{\"colorbar\": {\"outlinewidth\": 0, \"ticks\": \"\"}, \"type\": \"mesh3d\"}], \"parcoords\": [{\"line\": {\"colorbar\": {\"outlinewidth\": 0, \"ticks\": \"\"}}, \"type\": \"parcoords\"}], \"pie\": [{\"automargin\": true, \"type\": \"pie\"}], \"scatter\": [{\"marker\": {\"colorbar\": {\"outlinewidth\": 0, \"ticks\": \"\"}}, \"type\": \"scatter\"}], \"scatter3d\": [{\"line\": {\"colorbar\": {\"outlinewidth\": 0, \"ticks\": \"\"}}, \"marker\": {\"colorbar\": {\"outlinewidth\": 0, \"ticks\": \"\"}}, \"type\": \"scatter3d\"}], \"scattercarpet\": [{\"marker\": {\"colorbar\": {\"outlinewidth\": 0, \"ticks\": \"\"}}, \"type\": \"scattercarpet\"}], \"scattergeo\": [{\"marker\": {\"colorbar\": {\"outlinewidth\": 0, \"ticks\": \"\"}}, \"type\": \"scattergeo\"}], \"scattergl\": [{\"marker\": {\"colorbar\": {\"outlinewidth\": 0, \"ticks\": \"\"}}, \"type\": \"scattergl\"}], \"scattermapbox\": [{\"marker\": {\"colorbar\": {\"outlinewidth\": 0, \"ticks\": \"\"}}, \"type\": \"scattermapbox\"}], \"scatterpolar\": [{\"marker\": {\"colorbar\": {\"outlinewidth\": 0, \"ticks\": \"\"}}, \"type\": \"scatterpolar\"}], \"scatterpolargl\": [{\"marker\": {\"colorbar\": {\"outlinewidth\": 0, \"ticks\": \"\"}}, \"type\": \"scatterpolargl\"}], \"scatterternary\": [{\"marker\": {\"colorbar\": {\"outlinewidth\": 0, \"ticks\": \"\"}}, \"type\": \"scatterternary\"}], \"surface\": [{\"colorbar\": {\"outlinewidth\": 0, \"ticks\": \"\"}, \"colorscale\": [[0.0, \"#0d0887\"], [0.1111111111111111, \"#46039f\"], [0.2222222222222222, \"#7201a8\"], [0.3333333333333333, \"#9c179e\"], [0.4444444444444444, \"#bd3786\"], [0.5555555555555556, \"#d8576b\"], [0.6666666666666666, \"#ed7953\"], [0.7777777777777778, \"#fb9f3a\"], [0.8888888888888888, \"#fdca26\"], [1.0, \"#f0f921\"]], \"type\": \"surface\"}], \"table\": [{\"cells\": {\"fill\": {\"color\": \"#EBF0F8\"}, \"line\": {\"color\": \"white\"}}, \"header\": {\"fill\": {\"color\": \"#C8D4E3\"}, \"line\": {\"color\": \"white\"}}, \"type\": \"table\"}]}, \"layout\": {\"annotationdefaults\": {\"arrowcolor\": \"#2a3f5f\", \"arrowhead\": 0, \"arrowwidth\": 1}, \"autotypenumbers\": \"strict\", \"coloraxis\": {\"colorbar\": {\"outlinewidth\": 0, \"ticks\": \"\"}}, \"colorscale\": {\"diverging\": [[0, \"#8e0152\"], [0.1, \"#c51b7d\"], [0.2, \"#de77ae\"], [0.3, \"#f1b6da\"], [0.4, \"#fde0ef\"], [0.5, \"#f7f7f7\"], [0.6, \"#e6f5d0\"], [0.7, \"#b8e186\"], [0.8, \"#7fbc41\"], [0.9, \"#4d9221\"], [1, \"#276419\"]], \"sequential\": [[0.0, \"#0d0887\"], [0.1111111111111111, \"#46039f\"], [0.2222222222222222, \"#7201a8\"], [0.3333333333333333, \"#9c179e\"], [0.4444444444444444, \"#bd3786\"], [0.5555555555555556, \"#d8576b\"], [0.6666666666666666, \"#ed7953\"], [0.7777777777777778, \"#fb9f3a\"], [0.8888888888888888, \"#fdca26\"], [1.0, \"#f0f921\"]], \"sequentialminus\": [[0.0, \"#0d0887\"], [0.1111111111111111, \"#46039f\"], [0.2222222222222222, \"#7201a8\"], [0.3333333333333333, \"#9c179e\"], [0.4444444444444444, \"#bd3786\"], [0.5555555555555556, \"#d8576b\"], [0.6666666666666666, \"#ed7953\"], [0.7777777777777778, \"#fb9f3a\"], [0.8888888888888888, \"#fdca26\"], [1.0, \"#f0f921\"]]}, \"colorway\": [\"#636efa\", \"#EF553B\", \"#00cc96\", \"#ab63fa\", \"#FFA15A\", \"#19d3f3\", \"#FF6692\", \"#B6E880\", \"#FF97FF\", \"#FECB52\"], \"font\": {\"color\": \"#2a3f5f\"}, \"geo\": {\"bgcolor\": \"white\", \"lakecolor\": \"white\", \"landcolor\": \"#E5ECF6\", \"showlakes\": true, \"showland\": true, \"subunitcolor\": \"white\"}, \"hoverlabel\": {\"align\": \"left\"}, \"hovermode\": \"closest\", \"mapbox\": {\"style\": \"light\"}, \"paper_bgcolor\": \"white\", \"plot_bgcolor\": \"#E5ECF6\", \"polar\": {\"angularaxis\": {\"gridcolor\": \"white\", \"linecolor\": \"white\", \"ticks\": \"\"}, \"bgcolor\": \"#E5ECF6\", \"radialaxis\": {\"gridcolor\": \"white\", \"linecolor\": \"white\", \"ticks\": \"\"}}, \"scene\": {\"xaxis\": {\"backgroundcolor\": \"#E5ECF6\", \"gridcolor\": \"white\", \"gridwidth\": 2, \"linecolor\": \"white\", \"showbackground\": true, \"ticks\": \"\", \"zerolinecolor\": \"white\"}, \"yaxis\": {\"backgroundcolor\": \"#E5ECF6\", \"gridcolor\": \"white\", \"gridwidth\": 2, \"linecolor\": \"white\", \"showbackground\": true, \"ticks\": \"\", \"zerolinecolor\": \"white\"}, \"zaxis\": {\"backgroundcolor\": \"#E5ECF6\", \"gridcolor\": \"white\", \"gridwidth\": 2, \"linecolor\": \"white\", \"showbackground\": true, \"ticks\": \"\", \"zerolinecolor\": \"white\"}}, \"shapedefaults\": {\"line\": {\"color\": \"#2a3f5f\"}}, \"ternary\": {\"aaxis\": {\"gridcolor\": \"white\", \"linecolor\": \"white\", \"ticks\": \"\"}, \"baxis\": {\"gridcolor\": \"white\", \"linecolor\": \"white\", \"ticks\": \"\"}, \"bgcolor\": \"#E5ECF6\", \"caxis\": {\"gridcolor\": \"white\", \"linecolor\": \"white\", \"ticks\": \"\"}}, \"title\": {\"x\": 0.05}, \"xaxis\": {\"automargin\": true, \"gridcolor\": \"white\", \"linecolor\": \"white\", \"ticks\": \"\", \"title\": {\"standoff\": 15}, \"zerolinecolor\": \"white\", \"zerolinewidth\": 2}, \"yaxis\": {\"automargin\": true, \"gridcolor\": \"white\", \"linecolor\": \"white\", \"ticks\": \"\", \"title\": {\"standoff\": 15}, \"zerolinecolor\": \"white\", \"zerolinewidth\": 2}}}},                        {\"responsive\": true}                    ).then(function(){\n",
       "                            \n",
       "var gd = document.getElementById('53cfd46b-1805-40d5-8650-04d9e2566892');\n",
       "var x = new MutationObserver(function (mutations, observer) {{\n",
       "        var display = window.getComputedStyle(gd).display;\n",
       "        if (!display || display === 'none') {{\n",
       "            console.log([gd, 'removed!']);\n",
       "            Plotly.purge(gd);\n",
       "            observer.disconnect();\n",
       "        }}\n",
       "}});\n",
       "\n",
       "// Listen for the removal of the full notebook cells\n",
       "var notebookContainer = gd.closest('#notebook-container');\n",
       "if (notebookContainer) {{\n",
       "    x.observe(notebookContainer, {childList: true});\n",
       "}}\n",
       "\n",
       "// Listen for the clearing of the current output cell\n",
       "var outputEl = gd.closest('.output');\n",
       "if (outputEl) {{\n",
       "    x.observe(outputEl, {childList: true});\n",
       "}}\n",
       "\n",
       "                        })                };                });            </script>        </div>"
      ]
     },
     "metadata": {},
     "output_type": "execute_result"
    }
   ],
   "source": [
    "\n",
    "fig = go.Figure()\n",
    "\n",
    "fig.add_trace(go.Scatterpolar(\n",
    "      r=default_df[\"values\"],\n",
    "      theta=default_df[\"index\"],\n",
    "      fill='toself',\n",
    "      name='Default mean',\n",
    "      mode = 'lines',\n",
    "      line_color = 'Red'))\n",
    "\n",
    "fig.add_trace(go.Scatterpolar(\n",
    "      r=no_default_df[\"values\"],\n",
    "      theta=no_default_df[\"index\"],\n",
    "      fill='toself',\n",
    "      name='No Default Mean',\n",
    "      mode = 'lines',\n",
    "      line_color = 'Green'\n",
    "))\n",
    "\n",
    "fig.add_trace(go.Scatterpolar(\n",
    "      r=one_client_df[\"values\"],\n",
    "      theta=one_client_df[\"index\"],\n",
    "      fill='toself',\n",
    "      name='Client Selected',\n",
    "      mode = 'lines',\n",
    "      line_color = 'Blue'\n",
    "))\n",
    "\n",
    "\n",
    "fig.show()"
   ]
  }
 ],
 "metadata": {
  "kernelspec": {
   "display_name": "Python 3",
   "language": "python",
   "name": "python3"
  },
  "language_info": {
   "codemirror_mode": {
    "name": "ipython",
    "version": 3
   },
   "file_extension": ".py",
   "mimetype": "text/x-python",
   "name": "python",
   "nbconvert_exporter": "python",
   "pygments_lexer": "ipython3",
   "version": "3.7.5"
  },
  "papermill": {
   "default_parameters": {},
   "duration": 1230.375732,
   "end_time": "2021-07-20T06:30:52.650116",
   "environment_variables": {},
   "exception": null,
   "input_path": "__notebook__.ipynb",
   "output_path": "__notebook__.ipynb",
   "parameters": {},
   "start_time": "2021-07-20T06:10:22.274384",
   "version": "2.3.3"
  }
 },
 "nbformat": 4,
 "nbformat_minor": 5
}
